{
 "cells": [
  {
   "cell_type": "code",
   "execution_count": 69,
   "id": "7239adf8-d598-4aa3-949b-242c00dd91a0",
   "metadata": {},
   "outputs": [
    {
     "name": "stdout",
     "output_type": "stream",
     "text": [
      "86\n",
      "22564198\n",
      "8311.11\n",
      "[1443517, -631156, 1004755, -1581126, 289272, 1098929, -1167557, 806093, -1124485, 1736491, 408383, -604557, 294345, -1327485, -394323, -243585, 617439, 1530577, -1390390, 1130397, -1293604, -641758, 337413, 52031, 937192, -863841, 76245, 100481, 960729, -591856, -54930, -680102, 250254, 840415, -582358, 48628, 135256, -978586, 599210, 442789, -652924, 1005714, -1167373, 234900, 165147, 52275, 302320, -719028, 1825558, -1287083, 48303, -210234, 236414, -585165, 1400632, -839777, -465229, -317811, 760202, 71868, -795457, 182685, 1242836, -1371884, 445193, -10025, 1043998, -1350395, -80538, 1223250, -104148, -843924, 1808664, -1505005, -306402, 143603, 1266937, 162519, -1862002, 52986, 1627245, -616795, -628522, -90895, 224669, 0]\n"
     ]
    }
   ],
   "source": [
    "import os\n",
    "import csv\n",
    "\n",
    "# buckets to hold our lists and counts\n",
    "month_count = []\n",
    "net_pl_bucket = []\n",
    "pl_total = 0\n",
    "pl_change = []\n",
    "average_change = []\n",
    "\n",
    "\n",
    "# deifne the csv file for the source data\n",
    "\n",
    "budget_csv = os.path.join(\"Resources\", \"budget_data.csv\")\n",
    "\n",
    "with open(budget_csv) as csv_file:\n",
    "    \n",
    "    csv_reader = csv.reader(csv_file, delimiter=\",\")\n",
    "\n",
    "    # we don't want to read the header\n",
    "    csv_header = next(csv_file)\n",
    "    \n",
    "    #read through each row and add the month (row 1, indexed as row 0) to the bucket to hold month count\n",
    "    for row in csv_reader:\n",
    "    \n",
    "        month_count.append(row[0])\n",
    "        \n",
    "        net_pl_bucket.append(int(row[1]))\n",
    "        \n",
    "        # print(len(net_pl_bucket))\n",
    "        \n",
    "\n",
    "        # Creating a list of our profit/loss bucket, minus the first index to use to calculate the mean diff in profit/loss\n",
    "    net_pl_minus = net_pl_bucket[1 : len(net_pl_bucket) + 1]\n",
    "    \n",
    "    #Source 2 - Last element in a list\n",
    "    net_pl_last == net_pl_bucket[-1]\n",
    "    net_pl_minus.append(net_pl_last)\n",
    "    \n",
    "    pl_change = list(zip(net_pl_minus, net_pl_bucket))\n",
    "    \n",
    "   \n",
    "    for row in pl_change:\n",
    "        average_change.append(row[1] - row[0])\n",
    "        \n",
    "        pl_average = sum(average_change) / (len(net_pl_bucket) - 1)\n",
    "            \n",
    "    \n",
    "\n",
    "        \n",
    "# printing the length of the list 'month_count'\n",
    "    print(len(month_count))\n",
    "    \n",
    "#Prints the sum of the p/l firugre each month   \n",
    "    print(sum(net_pl_bucket))\n",
    "    \n",
    "#Source 1 - Prints the average of the month to month change, rounded to 2 decimal places\n",
    "    print(round(pl_average,2))\n",
    "    \n",
    "    print(average_change)\n",
    "    \n",
    "\n",
    "    "
   ]
  },
  {
   "cell_type": "code",
   "execution_count": null,
   "id": "984e6132-ec1e-4555-85f5-9840aa7b2305",
   "metadata": {},
   "outputs": [],
   "source": []
  }
 ],
 "metadata": {
  "kernelspec": {
   "display_name": "Python 3 (ipykernel)",
   "language": "python",
   "name": "python3"
  },
  "language_info": {
   "codemirror_mode": {
    "name": "ipython",
    "version": 3
   },
   "file_extension": ".py",
   "mimetype": "text/x-python",
   "name": "python",
   "nbconvert_exporter": "python",
   "pygments_lexer": "ipython3",
   "version": "3.11.5"
  }
 },
 "nbformat": 4,
 "nbformat_minor": 5
}
